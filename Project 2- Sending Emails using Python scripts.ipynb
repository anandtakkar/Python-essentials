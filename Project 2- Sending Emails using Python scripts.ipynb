{
 "cells": [
  {
   "cell_type": "markdown",
   "metadata": {},
   "source": [
    "# Email sending using python script"
   ]
  },
  {
   "cell_type": "code",
   "execution_count": 14,
   "metadata": {},
   "outputs": [
    {
     "name": "stdout",
     "output_type": "stream",
     "text": [
      "Requirement already satisfied: emails in c:\\users\\lenovo\\anaconda3\\lib\\site-packages (0.6)\n",
      "Requirement already satisfied: premailer in c:\\users\\lenovo\\anaconda3\\lib\\site-packages (from emails) (3.7.0)\n",
      "Requirement already satisfied: python-dateutil in c:\\users\\lenovo\\anaconda3\\lib\\site-packages (from emails) (2.8.1)\n",
      "Requirement already satisfied: requests in c:\\users\\lenovo\\anaconda3\\lib\\site-packages (from emails) (2.24.0)\n",
      "Requirement already satisfied: cssutils in c:\\users\\lenovo\\anaconda3\\lib\\site-packages (from emails) (1.0.2)\n",
      "Requirement already satisfied: chardet in c:\\users\\lenovo\\anaconda3\\lib\\site-packages (from emails) (3.0.4)\n",
      "Requirement already satisfied: lxml in c:\\users\\lenovo\\anaconda3\\lib\\site-packages (from emails) (4.6.1)\n",
      "Requirement already satisfied: cachetools in c:\\users\\lenovo\\anaconda3\\lib\\site-packages (from premailer->emails) (4.2.0)\n",
      "Requirement already satisfied: cssselect in c:\\users\\lenovo\\anaconda3\\lib\\site-packages (from premailer->emails) (1.1.0)\n",
      "Requirement already satisfied: six>=1.5 in c:\\users\\lenovo\\anaconda3\\lib\\site-packages (from python-dateutil->emails) (1.15.0)\n",
      "Requirement already satisfied: idna<3,>=2.5 in c:\\users\\lenovo\\anaconda3\\lib\\site-packages (from requests->emails) (2.10)\n",
      "Requirement already satisfied: urllib3!=1.25.0,!=1.25.1,<1.26,>=1.21.1 in c:\\users\\lenovo\\anaconda3\\lib\\site-packages (from requests->emails) (1.25.11)\n",
      "Requirement already satisfied: certifi>=2017.4.17 in c:\\users\\lenovo\\anaconda3\\lib\\site-packages (from requests->emails) (2020.6.20)\n"
     ]
    }
   ],
   "source": [
    "!pip install emails"
   ]
  },
  {
   "cell_type": "code",
   "execution_count": 24,
   "metadata": {},
   "outputs": [],
   "source": [
    "import emails"
   ]
  },
  {
   "cell_type": "code",
   "execution_count": 33,
   "metadata": {},
   "outputs": [],
   "source": [
    "def sendMail(email, name):\n",
    "    \n",
    "    html_text = '''<p><span style=\"font-family: Courier New, courier;\"><span style=\"background-color: rgb(247, 218, 100);\">HEY,'''+ name+'''</span>&nbsp;</span></p>\n",
    "                <p><span style=\"font-family: Courier New, courier;\"><br></span></p>\n",
    "                <p><span style=\"font-family: Courier New, courier;\">How are you?&nbsp;</span></p>\n",
    "                <p><span style=\"font-family: Courier New, courier;\">This is Dhanasree!!</span></p>\n",
    "                <p><span style=\"font-family: Courier New, courier;\">I did finally make a code to send mails using python&nbsp;</span></p>\n",
    "                <p><span style=\"font-family: Courier New, courier;\"><br></span></p>\n",
    "                <p><span style=\"font-family: Courier New, courier;\">Hope yoy like this&nbsp;</span></p>\n",
    "                <p><strong><span style=\"font-family: Courier New, courier;\">Regards</span></strong></p>\n",
    "                <p><span style=\"font-family: Courier New, courier;\"><strong>Dhanasree</strong></span></p>'''\n",
    "\n",
    "    subject = \"Hey\" + name + \", you have EMAIL FROM Dhanasree\"\n",
    "    message = emails.html(html=html_text,\n",
    "                          subject=subject,\n",
    "                          mail_from=('Dhanasree', 'dhana19sree@gmail.com'))\n",
    "\n",
    "    \n",
    "    mail_via_python = message.send(to=email, \n",
    "                               smtp={'host': 'smtp.gmail.com', \n",
    "                                     'timeout': 5,\n",
    "                                    'port':587,\n",
    "                                    'user':'dhana19sree@gmail.com',\n",
    "                                    'password':'@dhana19',\n",
    "                                    'tls':True})\n",
    "    return mail_via_python.status_code"
   ]
  },
  {
   "cell_type": "code",
   "execution_count": 34,
   "metadata": {},
   "outputs": [
    {
     "data": {
      "text/plain": [
       "250"
      ]
     },
     "execution_count": 34,
     "metadata": {},
     "output_type": "execute_result"
    }
   ],
   "source": [
    "sendMail(\"dhanasree199@gmail.com\",\"Dhanasree\")\n"
   ]
  }
 ],
 "metadata": {
  "kernelspec": {
   "display_name": "Python 3",
   "language": "python",
   "name": "python3"
  },
  "language_info": {
   "codemirror_mode": {
    "name": "ipython",
    "version": 3
   },
   "file_extension": ".py",
   "mimetype": "text/x-python",
   "name": "python",
   "nbconvert_exporter": "python",
   "pygments_lexer": "ipython3",
   "version": "3.8.5"
  }
 },
 "nbformat": 4,
 "nbformat_minor": 4
}
